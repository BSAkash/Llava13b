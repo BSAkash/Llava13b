{
  "nbformat": 4,
  "nbformat_minor": 0,
  "metadata": {
    "colab": {
      "provenance": []
    },
    "kernelspec": {
      "name": "python3",
      "display_name": "Python 3"
    },
    "language_info": {
      "name": "python"
    }
  },
  "cells": [
    {
      "cell_type": "code",
      "execution_count": null,
      "metadata": {
        "id": "Z3S84TGTxKFW"
      },
      "outputs": [],
      "source": [
        "from google.colab import drive\n",
        "drive.mount('/content/drive')"
      ]
    },
    {
      "cell_type": "code",
      "source": [
        "!pip install -q transformers pandas pillow scikit-learn tqdm"
      ],
      "metadata": {
        "id": "AvkMsM5KxQEm"
      },
      "execution_count": null,
      "outputs": []
    },
    {
      "cell_type": "code",
      "source": [
        "import torch\n",
        "from transformers import AutoProcessor, AutoModelForCausalLM, pipeline\n",
        "import pandas as pd\n",
        "from PIL import Image\n",
        "from tqdm import tqdm\n",
        "from sklearn.metrics import classification_report, accuracy_score"
      ],
      "metadata": {
        "id": "pLWCC4kRxQHL"
      },
      "execution_count": null,
      "outputs": []
    },
    {
      "cell_type": "code",
      "source": [
        "model_name = \"liuhaotian/llava-v1.5-13b\"\n",
        "processor = AutoProcessor.from_pretrained(model_name)\n",
        "model = AutoModelForCausalLM.from_pretrained(model_name)\n",
        "\n",
        "pipe = pipeline(\"image-to-text\", model=model, tokenizer=processor.tokenizer)"
      ],
      "metadata": {
        "id": "fEH9MOnxxQKS"
      },
      "execution_count": null,
      "outputs": []
    },
    {
      "cell_type": "code",
      "source": [
        "# Define the prompt\n",
        "prompt = \"USER:<image>\\nAnalyze the given image carefully. Identify any potential risks, safety concerns, sexual explicit content, signs of violence or aggression, indications of illegal activities, health hazards, environmental hazards, presence of weapons or dangerous objects based on visible details. Consider factors such as the context, setting, activities, expressions, and objects present in the image. Analyze and assess the environment and any notable elements. Identify any potential safety hazards or risks present. Note the presence and actions of people, if any. Check if there is any kind of violence. Finally, Classify the overall image context as 'harmless' if it appears safe with no visible threats or 'harmful' if there is any indication of danger. What is your classification?\\nASSISTANT:\"\n"
      ],
      "metadata": {
        "id": "pQSGsTSQxQNL"
      },
      "execution_count": null,
      "outputs": []
    },
    {
      "cell_type": "code",
      "source": [
        "# Load the CSV file with image paths and labels\n",
        "csv_file_path = 'caption_test.csv'\n",
        "data = pd.read_csv(csv_file_path)\n",
        "\n",
        "# Initialize lists for storing labels and predictions\n",
        "labels = []\n",
        "predictions = []\n",
        "\n",
        "# Process each image in the CSV file\n",
        "for index, row in tqdm(data.iterrows(), total=data.shape[0]):\n",
        "    image_path = row['IMAGE_PATH']\n",
        "    try:\n",
        "        image = Image.open(image_path).convert('RGB')\n",
        "        response = pipe(prompt, images=image)\n",
        "        predicted_label = response[0]['generated_text'].strip().lower()\n",
        "    except Exception as e:\n",
        "        print(f\"Error processing image {image_path}: {e}\")\n",
        "        continue\n",
        "\n",
        "    labels.append(row['label'].strip().lower())\n",
        "    predictions.append(predicted_label)\n",
        "\n",
        "# Calculate the classification report and accuracy\n",
        "report = classification_report(labels, predictions)\n",
        "accuracy = accuracy_score(labels, predictions)\n",
        "\n",
        "print(report)\n",
        "print(f\"Accuracy: {accuracy:.4f}\")\n"
      ],
      "metadata": {
        "id": "uar9wVBaxQQK"
      },
      "execution_count": null,
      "outputs": []
    },
    {
      "cell_type": "code",
      "source": [],
      "metadata": {
        "id": "_HX1qXlBxQwr"
      },
      "execution_count": null,
      "outputs": []
    }
  ]
}